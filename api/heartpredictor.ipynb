{
 "cells": [
  {
   "cell_type": "markdown",
   "id": "52decd0f-7e44-4ab1-92ee-bfc9b653df4c",
   "metadata": {},
   "source": [
    "# HEARTWISE - A HEART DISEASE PREDICTOR ML MODEL"
   ]
  },
  {
   "cell_type": "markdown",
   "id": "5d46e012-0ee6-4675-aa95-59199632e0e7",
   "metadata": {},
   "source": [
    "## Import the Libraries"
   ]
  },
  {
   "cell_type": "code",
   "execution_count": null,
   "id": "ba951567-9c97-4bd3-9853-eb675a4484b4",
   "metadata": {},
   "outputs": [
    {
     "ename": "",
     "evalue": "",
     "output_type": "error",
     "traceback": [
      "\u001b[1;31mRunning cells with 'Python 3.12.1' requires the ipykernel package.\n",
      "\u001b[1;31mRun the following command to install 'ipykernel' into the Python environment. \n",
      "\u001b[1;31mCommand: '\"c:/Program Files/Python312/python.exe\" -m pip install ipykernel -U --user --force-reinstall'"
     ]
    }
   ],
   "source": [
    "import numpy as np\n",
    "import pandas as pd\n",
    "import matplotlib.pyplot as plt\n",
    "import seaborn as sns\n",
    "import gradio as gr\n",
    "import pickle"
   ]
  },
  {
   "cell_type": "markdown",
   "id": "6142a74e-d144-4ebf-9ef7-99275d594bdf",
   "metadata": {},
   "source": [
    "## Import the dataset"
   ]
  },
  {
   "cell_type": "code",
   "execution_count": null,
   "id": "8b77a669-d248-4653-98d1-855b0867dfd5",
   "metadata": {},
   "outputs": [
    {
     "ename": "",
     "evalue": "",
     "output_type": "error",
     "traceback": [
      "\u001b[1;31mRunning cells with 'Python 3.12.1' requires the ipykernel package.\n",
      "\u001b[1;31mRun the following command to install 'ipykernel' into the Python environment. \n",
      "\u001b[1;31mCommand: '\"c:/Program Files/Python312/python.exe\" -m pip install ipykernel -U --user --force-reinstall'"
     ]
    }
   ],
   "source": [
    "df = pd.read_csv('heart.csv')\n",
    "df.head(10)"
   ]
  },
  {
   "cell_type": "code",
   "execution_count": null,
   "id": "a989aa2f-54ef-4ca1-af2b-500f6bb66bbc",
   "metadata": {},
   "outputs": [
    {
     "ename": "",
     "evalue": "",
     "output_type": "error",
     "traceback": [
      "\u001b[1;31mRunning cells with 'Python 3.12.1' requires the ipykernel package.\n",
      "\u001b[1;31mRun the following command to install 'ipykernel' into the Python environment. \n",
      "\u001b[1;31mCommand: '\"c:/Program Files/Python312/python.exe\" -m pip install ipykernel -U --user --force-reinstall'"
     ]
    }
   ],
   "source": [
    "df.info()\n",
    "df.describe()"
   ]
  },
  {
   "cell_type": "markdown",
   "id": "3a5a66f4-a5ba-4f74-82a5-4399db3e7c99",
   "metadata": {},
   "source": [
    "## Modify Datatypes"
   ]
  },
  {
   "cell_type": "code",
   "execution_count": null,
   "id": "f29acbd5-0e3c-43f0-91cb-b8ed4e566e10",
   "metadata": {},
   "outputs": [
    {
     "ename": "",
     "evalue": "",
     "output_type": "error",
     "traceback": [
      "\u001b[1;31mRunning cells with 'Python 3.12.1' requires the ipykernel package.\n",
      "\u001b[1;31mRun the following command to install 'ipykernel' into the Python environment. \n",
      "\u001b[1;31mCommand: '\"c:/Program Files/Python312/python.exe\" -m pip install ipykernel -U --user --force-reinstall'"
     ]
    }
   ],
   "source": [
    "# Replace infinity values with NaN\n",
    "df.replace([float('inf'), float('-inf')], pd.NA, inplace=True)\n",
    "\n",
    "# Drop rows with NaN values in 'cp' and 'target'\n",
    "df.dropna(subset=['cp', 'target'], inplace=True)"
   ]
  },
  {
   "cell_type": "markdown",
   "id": "353f71b9-5189-4056-82c1-b5df448da039",
   "metadata": {},
   "source": [
    "## Split the Dataset into Train and Test Datasets"
   ]
  },
  {
   "cell_type": "code",
   "execution_count": null,
   "id": "0d658585-937d-4074-97d5-ac6bd168e42e",
   "metadata": {},
   "outputs": [
    {
     "ename": "",
     "evalue": "",
     "output_type": "error",
     "traceback": [
      "\u001b[1;31mRunning cells with 'Python 3.12.1' requires the ipykernel package.\n",
      "\u001b[1;31mRun the following command to install 'ipykernel' into the Python environment. \n",
      "\u001b[1;31mCommand: '\"c:/Program Files/Python312/python.exe\" -m pip install ipykernel -U --user --force-reinstall'"
     ]
    }
   ],
   "source": [
    "from sklearn.model_selection import train_test_split\n",
    "\n",
    "train_df, test_df = train_test_split(df, test_size=0.2, random_state=42)\n",
    "\n",
    "print(\"Training set size:\", train_df.shape)\n",
    "print(\"Test set size:\", test_df.shape)"
   ]
  },
  {
   "cell_type": "markdown",
   "id": "6eb88d36-ed6f-4061-83a8-c27e8047afb3",
   "metadata": {},
   "source": [
    "## Exploratory Data Analysis (EDA)"
   ]
  },
  {
   "cell_type": "code",
   "execution_count": null,
   "id": "5ac8c299-0816-4670-9114-154bc44e1ea3",
   "metadata": {},
   "outputs": [
    {
     "ename": "",
     "evalue": "",
     "output_type": "error",
     "traceback": [
      "\u001b[1;31mRunning cells with 'Python 3.12.1' requires the ipykernel package.\n",
      "\u001b[1;31mRun the following command to install 'ipykernel' into the Python environment. \n",
      "\u001b[1;31mCommand: '\"c:/Program Files/Python312/python.exe\" -m pip install ipykernel -U --user --force-reinstall'"
     ]
    }
   ],
   "source": [
    "plt.figure(figsize=(15, 10))\n",
    "sns.heatmap(train_df.corr(), annot=True, fmt=\".2f\", cmap='magma', center=0)\n",
    "plt.title('Correlation Heatmap of Training Dataset')\n",
    "plt.show()"
   ]
  },
  {
   "cell_type": "code",
   "execution_count": null,
   "id": "dfe68e29-2efe-4295-b79b-21bb9d168326",
   "metadata": {},
   "outputs": [
    {
     "ename": "",
     "evalue": "",
     "output_type": "error",
     "traceback": [
      "\u001b[1;31mRunning cells with 'Python 3.12.1' requires the ipykernel package.\n",
      "\u001b[1;31mRun the following command to install 'ipykernel' into the Python environment. \n",
      "\u001b[1;31mCommand: '\"c:/Program Files/Python312/python.exe\" -m pip install ipykernel -U --user --force-reinstall'"
     ]
    }
   ],
   "source": [
    "plt.figure(figsize=(10, 6))\n",
    "sns.histplot(data=train_df, x='chol', kde=True, bins=30)\n",
    "plt.title('Histogram of Cholesterol Levels')\n",
    "plt.xlabel('Cholesterol')\n",
    "plt.ylabel('Frequency')\n",
    "plt.show()"
   ]
  },
  {
   "cell_type": "code",
   "execution_count": null,
   "id": "7effefd8-9dbe-4bfb-8c22-036f87f3c550",
   "metadata": {},
   "outputs": [
    {
     "ename": "",
     "evalue": "",
     "output_type": "error",
     "traceback": [
      "\u001b[1;31mRunning cells with 'Python 3.12.1' requires the ipykernel package.\n",
      "\u001b[1;31mRun the following command to install 'ipykernel' into the Python environment. \n",
      "\u001b[1;31mCommand: '\"c:/Program Files/Python312/python.exe\" -m pip install ipykernel -U --user --force-reinstall'"
     ]
    }
   ],
   "source": [
    "# Distribution of Age\n",
    "plt.figure(figsize=(10, 6))\n",
    "sns.histplot(data=df, x='age', kde=True, bins=30, color='skyblue')\n",
    "plt.title('Distribution of Age')\n",
    "plt.xlabel('Age')\n",
    "plt.ylabel('Frequency')\n",
    "plt.show()"
   ]
  },
  {
   "cell_type": "code",
   "execution_count": null,
   "id": "3ad70b52-132a-4e33-8436-2e25653c39e5",
   "metadata": {},
   "outputs": [
    {
     "ename": "",
     "evalue": "",
     "output_type": "error",
     "traceback": [
      "\u001b[1;31mRunning cells with 'Python 3.12.1' requires the ipykernel package.\n",
      "\u001b[1;31mRun the following command to install 'ipykernel' into the Python environment. \n",
      "\u001b[1;31mCommand: '\"c:/Program Files/Python312/python.exe\" -m pip install ipykernel -U --user --force-reinstall'"
     ]
    }
   ],
   "source": [
    "# Boxplot for Cholesterol by Target\n",
    "plt.figure(figsize=(10, 6))\n",
    "sns.boxplot(data=df, x='target', y='chol', palette='viridis')\n",
    "plt.title('Boxplot of Cholesterol Levels by Heart Disease')\n",
    "plt.xlabel('Heart Disease (0 = No, 1 = Yes)')\n",
    "plt.ylabel('Cholesterol')\n",
    "plt.show()"
   ]
  },
  {
   "cell_type": "code",
   "execution_count": null,
   "id": "4c8f92ed-9299-485a-a7b9-1c05e512cd88",
   "metadata": {},
   "outputs": [
    {
     "ename": "",
     "evalue": "",
     "output_type": "error",
     "traceback": [
      "\u001b[1;31mRunning cells with 'Python 3.12.1' requires the ipykernel package.\n",
      "\u001b[1;31mRun the following command to install 'ipykernel' into the Python environment. \n",
      "\u001b[1;31mCommand: '\"c:/Program Files/Python312/python.exe\" -m pip install ipykernel -U --user --force-reinstall'"
     ]
    }
   ],
   "source": [
    "# Count Plot for Chest Pain Type\n",
    "plt.figure(figsize=(10, 6))\n",
    "sns.countplot(data=df, x='cp', palette='Set2')\n",
    "plt.title('Count Plot of Chest Pain Types')\n",
    "plt.xlabel('Chest Pain Type')\n",
    "plt.ylabel('Count')\n",
    "plt.show()"
   ]
  },
  {
   "cell_type": "code",
   "execution_count": null,
   "id": "c104b676-9f91-4d50-a419-ac52ce6eee33",
   "metadata": {},
   "outputs": [
    {
     "ename": "",
     "evalue": "",
     "output_type": "error",
     "traceback": [
      "\u001b[1;31mRunning cells with 'Python 3.12.1' requires the ipykernel package.\n",
      "\u001b[1;31mRun the following command to install 'ipykernel' into the Python environment. \n",
      "\u001b[1;31mCommand: '\"c:/Program Files/Python312/python.exe\" -m pip install ipykernel -U --user --force-reinstall'"
     ]
    }
   ],
   "source": [
    "# Scatter Plot for Age vs Max Heart Rate Achieved\n",
    "plt.figure(figsize=(10, 6))\n",
    "sns.scatterplot(data=df, x='age', y='thalach', hue='target', palette='coolwarm')\n",
    "plt.title('Scatter Plot of Age vs Max Heart Rate Achieved')\n",
    "plt.xlabel('Age')\n",
    "plt.ylabel('Max Heart Rate Achieved')\n",
    "plt.show()"
   ]
  },
  {
   "cell_type": "code",
   "execution_count": null,
   "id": "f5c48dda-8192-4d04-85f0-639b1a184a09",
   "metadata": {},
   "outputs": [
    {
     "ename": "",
     "evalue": "",
     "output_type": "error",
     "traceback": [
      "\u001b[1;31mRunning cells with 'Python 3.12.1' requires the ipykernel package.\n",
      "\u001b[1;31mRun the following command to install 'ipykernel' into the Python environment. \n",
      "\u001b[1;31mCommand: '\"c:/Program Files/Python312/python.exe\" -m pip install ipykernel -U --user --force-reinstall'"
     ]
    }
   ],
   "source": [
    "# Pair Plot\n",
    "sns.pairplot(df, hue='target', palette='coolwarm', markers=[\"o\", \"s\"])\n",
    "plt.suptitle('Pair Plot of Features', y=1.02)\n",
    "plt.show()"
   ]
  },
  {
   "cell_type": "code",
   "execution_count": null,
   "id": "d9309613-1d07-4886-8a25-8bddd0922b39",
   "metadata": {},
   "outputs": [
    {
     "ename": "",
     "evalue": "",
     "output_type": "error",
     "traceback": [
      "\u001b[1;31mRunning cells with 'Python 3.12.1' requires the ipykernel package.\n",
      "\u001b[1;31mRun the following command to install 'ipykernel' into the Python environment. \n",
      "\u001b[1;31mCommand: '\"c:/Program Files/Python312/python.exe\" -m pip install ipykernel -U --user --force-reinstall'"
     ]
    }
   ],
   "source": [
    "sns.scatterplot(data=train_df, x='age', y='chol', hue='target')\n",
    "plt.title('Scatter Plot of Age and Cholesterol with Target')\n",
    "plt.show()"
   ]
  },
  {
   "cell_type": "code",
   "execution_count": null,
   "id": "16da7988-e826-4978-91d6-6a16afc744de",
   "metadata": {},
   "outputs": [
    {
     "ename": "",
     "evalue": "",
     "output_type": "error",
     "traceback": [
      "\u001b[1;31mRunning cells with 'Python 3.12.1' requires the ipykernel package.\n",
      "\u001b[1;31mRun the following command to install 'ipykernel' into the Python environment. \n",
      "\u001b[1;31mCommand: '\"c:/Program Files/Python312/python.exe\" -m pip install ipykernel -U --user --force-reinstall'"
     ]
    }
   ],
   "source": [
    "sns.scatterplot(data=train_df, x='age', y='trestbps', hue='target')\n",
    "plt.title('Scatter Plot of Age and Resting Blood Pressure')\n",
    "plt.show()"
   ]
  },
  {
   "cell_type": "code",
   "execution_count": null,
   "id": "a719689c-7899-4fc4-aeb2-f73ca962bc9b",
   "metadata": {},
   "outputs": [
    {
     "ename": "",
     "evalue": "",
     "output_type": "error",
     "traceback": [
      "\u001b[1;31mRunning cells with 'Python 3.12.1' requires the ipykernel package.\n",
      "\u001b[1;31mRun the following command to install 'ipykernel' into the Python environment. \n",
      "\u001b[1;31mCommand: '\"c:/Program Files/Python312/python.exe\" -m pip install ipykernel -U --user --force-reinstall'"
     ]
    }
   ],
   "source": [
    "# Distribution of the Target Variable\n",
    "plt.figure(figsize=(10, 6))\n",
    "sns.countplot(data=df, x='target', palette='Set1')\n",
    "plt.title('Distribution of the Target Variable')\n",
    "plt.xlabel('Heart Disease (0 = No, 1 = Yes)')\n",
    "plt.ylabel('Count')\n",
    "plt.show()"
   ]
  },
  {
   "cell_type": "markdown",
   "id": "ecc81eef-e5b7-4038-8bf9-0882b687639e",
   "metadata": {},
   "source": [
    "## Importing Necessary Models"
   ]
  },
  {
   "cell_type": "code",
   "execution_count": null,
   "id": "f036dbc2-1984-4220-aa06-9f8dfee51096",
   "metadata": {},
   "outputs": [
    {
     "ename": "",
     "evalue": "",
     "output_type": "error",
     "traceback": [
      "\u001b[1;31mRunning cells with 'Python 3.12.1' requires the ipykernel package.\n",
      "\u001b[1;31mRun the following command to install 'ipykernel' into the Python environment. \n",
      "\u001b[1;31mCommand: '\"c:/Program Files/Python312/python.exe\" -m pip install ipykernel -U --user --force-reinstall'"
     ]
    }
   ],
   "source": [
    "from sklearn.linear_model import LogisticRegression\n",
    "from sklearn.ensemble import RandomForestClassifier\n",
    "from sklearn.metrics import mean_squared_error, r2_score, accuracy_score, classification_report, confusion_matrix"
   ]
  },
  {
   "cell_type": "code",
   "execution_count": null,
   "id": "d60ea0da-1a99-4e96-89d4-89fef632a1ad",
   "metadata": {},
   "outputs": [
    {
     "ename": "",
     "evalue": "",
     "output_type": "error",
     "traceback": [
      "\u001b[1;31mRunning cells with 'Python 3.12.1' requires the ipykernel package.\n",
      "\u001b[1;31mRun the following command to install 'ipykernel' into the Python environment. \n",
      "\u001b[1;31mCommand: '\"c:/Program Files/Python312/python.exe\" -m pip install ipykernel -U --user --force-reinstall'"
     ]
    }
   ],
   "source": [
    "# Removing target column from data\n",
    "\n",
    "a_train = train_df.drop(['target'], axis=1)\n",
    "b_train = train_df['target']\n",
    "\n",
    "a_test = test_df.drop(['target'], axis=1)\n",
    "b_test = test_df['target']"
   ]
  },
  {
   "cell_type": "markdown",
   "id": "d51c2c27-a585-4202-a1f6-25fe0613c618",
   "metadata": {},
   "source": [
    "## Training Models"
   ]
  },
  {
   "cell_type": "code",
   "execution_count": null,
   "id": "f59cf107-71e4-4f70-bea8-4333b088f9ba",
   "metadata": {},
   "outputs": [
    {
     "ename": "",
     "evalue": "",
     "output_type": "error",
     "traceback": [
      "\u001b[1;31mRunning cells with 'Python 3.12.1' requires the ipykernel package.\n",
      "\u001b[1;31mRun the following command to install 'ipykernel' into the Python environment. \n",
      "\u001b[1;31mCommand: '\"c:/Program Files/Python312/python.exe\" -m pip install ipykernel -U --user --force-reinstall'"
     ]
    }
   ],
   "source": [
    "model_lr = LogisticRegression(max_iter = 1500)\n",
    "model_lr.fit(a_train, b_train)"
   ]
  },
  {
   "cell_type": "code",
   "execution_count": null,
   "id": "6c508591-3513-4e52-8fc3-dd3f4b1da493",
   "metadata": {},
   "outputs": [
    {
     "ename": "",
     "evalue": "",
     "output_type": "error",
     "traceback": [
      "\u001b[1;31mRunning cells with 'Python 3.12.1' requires the ipykernel package.\n",
      "\u001b[1;31mRun the following command to install 'ipykernel' into the Python environment. \n",
      "\u001b[1;31mCommand: '\"c:/Program Files/Python312/python.exe\" -m pip install ipykernel -U --user --force-reinstall'"
     ]
    }
   ],
   "source": [
    "model_rf = RandomForestClassifier()\n",
    "model_rf.fit(a_train, b_train)"
   ]
  },
  {
   "cell_type": "code",
   "execution_count": null,
   "id": "9d5e83b2-a608-4889-960e-af6276d61b54",
   "metadata": {},
   "outputs": [
    {
     "ename": "",
     "evalue": "",
     "output_type": "error",
     "traceback": [
      "\u001b[1;31mRunning cells with 'Python 3.12.1' requires the ipykernel package.\n",
      "\u001b[1;31mRun the following command to install 'ipykernel' into the Python environment. \n",
      "\u001b[1;31mCommand: '\"c:/Program Files/Python312/python.exe\" -m pip install ipykernel -U --user --force-reinstall'"
     ]
    }
   ],
   "source": [
    "b_pred = model_lr.predict(a_test)"
   ]
  },
  {
   "cell_type": "code",
   "execution_count": null,
   "id": "5d323852-23dd-47e9-869a-2657b4ab5790",
   "metadata": {},
   "outputs": [
    {
     "ename": "",
     "evalue": "",
     "output_type": "error",
     "traceback": [
      "\u001b[1;31mRunning cells with 'Python 3.12.1' requires the ipykernel package.\n",
      "\u001b[1;31mRun the following command to install 'ipykernel' into the Python environment. \n",
      "\u001b[1;31mCommand: '\"c:/Program Files/Python312/python.exe\" -m pip install ipykernel -U --user --force-reinstall'"
     ]
    }
   ],
   "source": [
    "Brf_pred = model_rf.predict(a_test)"
   ]
  },
  {
   "cell_type": "markdown",
   "id": "72f7464f-131b-4f47-8b4f-d106e5e5039d",
   "metadata": {},
   "source": [
    "## Compare the Models"
   ]
  },
  {
   "cell_type": "code",
   "execution_count": null,
   "id": "d04b42ef-4946-4254-a7c1-53dcfc9d0c71",
   "metadata": {},
   "outputs": [
    {
     "ename": "",
     "evalue": "",
     "output_type": "error",
     "traceback": [
      "\u001b[1;31mRunning cells with 'Python 3.12.1' requires the ipykernel package.\n",
      "\u001b[1;31mRun the following command to install 'ipykernel' into the Python environment. \n",
      "\u001b[1;31mCommand: '\"c:/Program Files/Python312/python.exe\" -m pip install ipykernel -U --user --force-reinstall'"
     ]
    }
   ],
   "source": [
    "print(\"LOGISTIC REGRESSSION\")\n",
    "print(classification_report(y_pred=b_pred, y_true=b_test))\n",
    "print(\"RANDOM FOREST CLASSIFIER\")\n",
    "print(classification_report(y_pred=Brf_pred, y_true=b_test))"
   ]
  },
  {
   "cell_type": "code",
   "execution_count": null,
   "id": "4f48b80a-64a1-4f47-9b65-34d3dc78131e",
   "metadata": {},
   "outputs": [
    {
     "ename": "",
     "evalue": "",
     "output_type": "error",
     "traceback": [
      "\u001b[1;31mRunning cells with 'Python 3.12.1' requires the ipykernel package.\n",
      "\u001b[1;31mRun the following command to install 'ipykernel' into the Python environment. \n",
      "\u001b[1;31mCommand: '\"c:/Program Files/Python312/python.exe\" -m pip install ipykernel -U --user --force-reinstall'"
     ]
    }
   ],
   "source": [
    "print(accuracy_score(y_pred=b_pred, y_true=b_test))\n",
    "\n",
    "print(accuracy_score(y_pred= Brf_pred, y_true=b_test))"
   ]
  },
  {
   "cell_type": "code",
   "execution_count": null,
   "id": "c043a2af-053e-4fb7-a41f-b77059de0a42",
   "metadata": {},
   "outputs": [
    {
     "ename": "",
     "evalue": "",
     "output_type": "error",
     "traceback": [
      "\u001b[1;31mRunning cells with 'Python 3.12.1' requires the ipykernel package.\n",
      "\u001b[1;31mRun the following command to install 'ipykernel' into the Python environment. \n",
      "\u001b[1;31mCommand: '\"c:/Program Files/Python312/python.exe\" -m pip install ipykernel -U --user --force-reinstall'"
     ]
    }
   ],
   "source": [
    "# Confusion matrix for Logistic Regression\n",
    "\n",
    "conf_matrix_lr = confusion_matrix(b_test, b_pred)\n",
    "\n",
    "plt.figure(figsize=(8, 6))\n",
    "sns.heatmap(conf_matrix_lr, annot=True, fmt='d', cmap='Blues', \n",
    "            xticklabels=['No Heart Disease', 'Heart Disease'],\n",
    "            yticklabels=['No Heart Disease', 'Heart Disease'])\n",
    "plt.title('Confusion Matrix - Logistic Regression Model')\n",
    "plt.xlabel('Predicted Label')\n",
    "plt.ylabel('True Label')\n",
    "plt.show()"
   ]
  },
  {
   "cell_type": "code",
   "execution_count": null,
   "id": "0ea62781-4c58-47e5-ba63-470887dc6613",
   "metadata": {},
   "outputs": [
    {
     "ename": "",
     "evalue": "",
     "output_type": "error",
     "traceback": [
      "\u001b[1;31mRunning cells with 'Python 3.12.1' requires the ipykernel package.\n",
      "\u001b[1;31mRun the following command to install 'ipykernel' into the Python environment. \n",
      "\u001b[1;31mCommand: '\"c:/Program Files/Python312/python.exe\" -m pip install ipykernel -U --user --force-reinstall'"
     ]
    }
   ],
   "source": [
    "# Confusion matrix for random forest\n",
    "\n",
    "conf_matrix_rf = confusion_matrix(b_test, Brf_pred)\n",
    "\n",
    "plt.figure(figsize=(8, 6))\n",
    "sns.heatmap(conf_matrix_rf, annot=True, fmt='d', cmap='Blues', \n",
    "            xticklabels=['No Heart Disease', 'Heart Disease'],\n",
    "            yticklabels=['No Heart Disease', 'Heart Disease'])\n",
    "plt.title('Confusion Matrix - Random Forest Model')\n",
    "plt.xlabel('Predicted Label')\n",
    "plt.ylabel('True Label')\n",
    "plt.show()"
   ]
  },
  {
   "cell_type": "code",
   "execution_count": null,
   "id": "82cb835a-1594-432b-bcce-b75dec7bd1b1",
   "metadata": {},
   "outputs": [
    {
     "ename": "",
     "evalue": "",
     "output_type": "error",
     "traceback": [
      "\u001b[1;31mRunning cells with 'Python 3.12.1' requires the ipykernel package.\n",
      "\u001b[1;31mRun the following command to install 'ipykernel' into the Python environment. \n",
      "\u001b[1;31mCommand: '\"c:/Program Files/Python312/python.exe\" -m pip install ipykernel -U --user --force-reinstall'"
     ]
    }
   ],
   "source": [
    "# Predictions from Logistic Regression model\n",
    "b_pred_lr = model_lr.predict(a_test)\n",
    "accuracy_lr = accuracy_score(b_test, b_pred_lr)\n",
    "\n",
    "\n",
    "# Predictions from Random Forest Classifier model\n",
    "b_pred_rf = model_rf.predict(a_test)\n",
    "accuracy_rf = accuracy_score(b_test, b_pred_rf)\n",
    "\n",
    "# Bar graph\n",
    "labels = ['Logistic Regression', 'Random Forest Classifier']\n",
    "accuracies = [accuracy_lr, accuracy_rf]\n",
    "\n",
    "plt.bar(labels, accuracies, color=['blue', 'green'])\n",
    "plt.ylabel('Accuracy')\n",
    "plt.title('Comparison of Model Accuracies on test data')\n",
    "plt.ylim(0, 1) \n",
    "plt.show()"
   ]
  },
  {
   "cell_type": "markdown",
   "id": "24b200de-1e76-4ac9-81fc-265e41c49b9d",
   "metadata": {},
   "source": [
    "## Saving the Random Forest Model as a PKL File"
   ]
  },
  {
   "cell_type": "code",
   "execution_count": null,
   "id": "e1d0c79a-81ca-4079-9f87-c8d3002e81c6",
   "metadata": {},
   "outputs": [
    {
     "ename": "",
     "evalue": "",
     "output_type": "error",
     "traceback": [
      "\u001b[1;31mRunning cells with 'Python 3.12.1' requires the ipykernel package.\n",
      "\u001b[1;31mRun the following command to install 'ipykernel' into the Python environment. \n",
      "\u001b[1;31mCommand: '\"c:/Program Files/Python312/python.exe\" -m pip install ipykernel -U --user --force-reinstall'"
     ]
    }
   ],
   "source": [
    "with open('heart_disease.pkl', 'wb') as file:\n",
    "    pickle.dump(model_rf, file)"
   ]
  },
  {
   "cell_type": "markdown",
   "id": "12146f75-7c5b-4985-9089-ce7b19726cb0",
   "metadata": {},
   "source": [
    "## Testing the Model with User Inputs"
   ]
  },
  {
   "cell_type": "code",
   "execution_count": null,
   "id": "bc1ab855-ebe2-4051-832f-f63a1d8c4a49",
   "metadata": {},
   "outputs": [
    {
     "ename": "",
     "evalue": "",
     "output_type": "error",
     "traceback": [
      "\u001b[1;31mRunning cells with 'Python 3.12.1' requires the ipykernel package.\n",
      "\u001b[1;31mRun the following command to install 'ipykernel' into the Python environment. \n",
      "\u001b[1;31mCommand: '\"c:/Program Files/Python312/python.exe\" -m pip install ipykernel -U --user --force-reinstall'"
     ]
    }
   ],
   "source": [
    "age = int(input(\"enter age: \"))\n",
    "sex = int(input(\"enter sex(0 female 1 male): \"))\n",
    "cp = int(input(\"enter cp (0-3):\"))\n",
    "trestbps = int(input(\"enter trestbps: \"))\n",
    "chol = int(input(\"enter chol: \"))\n",
    "fbs = int(input(\"enter fbs: \"))\n",
    "restecg = int(input(\"enter restecg: \"))\n",
    "thalach = int(input(\"enter thalach: \"))\n",
    "exang = int(input(\"enter exang: \"))\n",
    "oldpeak = float(input(\"enter oldpeak: \"))\n",
    "slope = int(input(\"enter slope: \"))\n",
    "ca = int(input(\"enter ca(0-3): \"))\n",
    "thal = int(input(\"enter thal: \"))\n",
    "\n",
    "user_input = {\n",
    "        'age': [age],\n",
    "        'sex': [sex],\n",
    "        'cp': [cp],\n",
    "        'trestbps': [trestbps],\n",
    "        'chol': [chol],\n",
    "        'fbs': [fbs],\n",
    "        'restecg': [restecg],\n",
    "        'thalach': [thalach],\n",
    "        'exang': [exang],\n",
    "        'oldpeak': [oldpeak],\n",
    "        'slope': [slope],\n",
    "        'ca': [ca],\n",
    "        'thal': [thal]\n",
    "    }\n",
    "user_DF = pd.DataFrame(user_input)"
   ]
  },
  {
   "cell_type": "code",
   "execution_count": null,
   "id": "eb90b61f-e4cc-4409-acf9-a074ba9910e5",
   "metadata": {},
   "outputs": [
    {
     "ename": "",
     "evalue": "",
     "output_type": "error",
     "traceback": [
      "\u001b[1;31mRunning cells with 'Python 3.12.1' requires the ipykernel package.\n",
      "\u001b[1;31mRun the following command to install 'ipykernel' into the Python environment. \n",
      "\u001b[1;31mCommand: '\"c:/Program Files/Python312/python.exe\" -m pip install ipykernel -U --user --force-reinstall'"
     ]
    }
   ],
   "source": [
    "def heart_prediction(user_DF):\n",
    "    pred_user = model_rf.predict(user_DF)\n",
    "    if pred_user == 0:\n",
    "        return \"No heart disease\\nYou're healthy\"\n",
    "    elif pred_user == 1:\n",
    "        return \"Heart disease\\nTake precautions\"\n",
    "    \n",
    "result = heart_prediction(user_DF)\n",
    "print(result)"
   ]
  },
  {
   "cell_type": "code",
   "execution_count": null,
   "id": "dde12bed-d7d1-4b37-a4fb-9d3b711f91ae",
   "metadata": {},
   "outputs": [
    {
     "ename": "",
     "evalue": "",
     "output_type": "error",
     "traceback": [
      "\u001b[1;31mRunning cells with 'Python 3.12.1' requires the ipykernel package.\n",
      "\u001b[1;31mRun the following command to install 'ipykernel' into the Python environment. \n",
      "\u001b[1;31mCommand: '\"c:/Program Files/Python312/python.exe\" -m pip install ipykernel -U --user --force-reinstall'"
     ]
    }
   ],
   "source": []
  }
 ],
 "metadata": {
  "kernelspec": {
   "display_name": "Python 3 (ipykernel)",
   "language": "python",
   "name": "python3"
  },
  "language_info": {
   "codemirror_mode": {
    "name": "ipython",
    "version": 3
   },
   "file_extension": ".py",
   "mimetype": "text/x-python",
   "name": "python",
   "nbconvert_exporter": "python",
   "pygments_lexer": "ipython3",
   "version": "3.12.1"
  }
 },
 "nbformat": 4,
 "nbformat_minor": 5
}
